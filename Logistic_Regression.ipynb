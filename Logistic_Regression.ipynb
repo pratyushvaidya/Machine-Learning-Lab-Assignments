{
  "nbformat": 4,
  "nbformat_minor": 0,
  "metadata": {
    "colab": {
      "name": "Logistic Regression.ipynb",
      "provenance": [],
      "collapsed_sections": [],
      "authorship_tag": "ABX9TyNMXG6FOBVQAPOLqJlz4xnV",
      "include_colab_link": true
    },
    "kernelspec": {
      "name": "python3",
      "display_name": "Python 3"
    }
  },
  "cells": [
    {
      "cell_type": "markdown",
      "metadata": {
        "id": "view-in-github",
        "colab_type": "text"
      },
      "source": [
        "<a href=\"https://colab.research.google.com/github/pratyushvaidya/Machine-Learning-Lab-Assignments/blob/master/Logistic_Regression.ipynb\" target=\"_parent\"><img src=\"https://colab.research.google.com/assets/colab-badge.svg\" alt=\"Open In Colab\"/></a>"
      ]
    },
    {
      "cell_type": "code",
      "metadata": {
        "id": "bGsgSG8ExyA5",
        "colab_type": "code",
        "outputId": "53b43c3d-3b64-4477-e886-0861e9f8dc71",
        "colab": {
          "base_uri": "https://localhost:8080/",
          "height": 168
        }
      },
      "source": [
        "from sklearn import datasets, linear_model, metrics \n",
        "   \n",
        "# load the digit dataset \n",
        "digits = datasets.load_digits() \n",
        "   \n",
        "# defining feature matrix(X) and response vector(y) \n",
        "X = digits.data \n",
        "y = digits.target \n",
        "  \n",
        "# splitting X and y into training and testing sets \n",
        "from sklearn.model_selection import train_test_split \n",
        "X_train, X_test, y_train, y_test = train_test_split(X, y, test_size=0.4, \n",
        "                                                    random_state=1) \n",
        "   \n",
        "# create logistic regression object \n",
        "reg = linear_model.LogisticRegression() \n",
        "   \n",
        "# train the model using the training sets \n",
        "reg.fit(X_train, y_train) \n",
        "  \n",
        "# making predictions on the testing set \n",
        "y_pred = reg.predict(X_test) \n",
        "   \n",
        "# comparing actual response values (y_test) with predicted response values (y_pred) \n",
        "print(\"Logistic Regression model accuracy(in %):\",  \n",
        "metrics.accuracy_score(y_test, y_pred)*100) "
      ],
      "execution_count": 0,
      "outputs": [
        {
          "output_type": "stream",
          "text": [
            "Logistic Regression model accuracy(in %): 96.52294853963839\n"
          ],
          "name": "stdout"
        },
        {
          "output_type": "stream",
          "text": [
            "/usr/local/lib/python3.6/dist-packages/sklearn/linear_model/_logistic.py:940: ConvergenceWarning: lbfgs failed to converge (status=1):\n",
            "STOP: TOTAL NO. of ITERATIONS REACHED LIMIT.\n",
            "\n",
            "Increase the number of iterations (max_iter) or scale the data as shown in:\n",
            "    https://scikit-learn.org/stable/modules/preprocessing.html\n",
            "Please also refer to the documentation for alternative solver options:\n",
            "    https://scikit-learn.org/stable/modules/linear_model.html#logistic-regression\n",
            "  extra_warning_msg=_LOGISTIC_SOLVER_CONVERGENCE_MSG)\n"
          ],
          "name": "stderr"
        }
      ]
    }
  ]
}