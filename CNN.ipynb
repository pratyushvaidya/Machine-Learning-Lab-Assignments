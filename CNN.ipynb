{
  "nbformat": 4,
  "nbformat_minor": 0,
  "metadata": {
    "colab": {
      "name": "CNN.ipynb",
      "provenance": [],
      "collapsed_sections": [],
      "authorship_tag": "ABX9TyOvErGwPCgeWX/t00iqxBHh",
      "include_colab_link": true
    },
    "kernelspec": {
      "name": "python3",
      "display_name": "Python 3"
    }
  },
  "cells": [
    {
      "cell_type": "markdown",
      "metadata": {
        "id": "view-in-github",
        "colab_type": "text"
      },
      "source": [
        "<a href=\"https://colab.research.google.com/github/pratyushvaidya/Machine-Learning-Lab-Assignments/blob/master/CNN.ipynb\" target=\"_parent\"><img src=\"https://colab.research.google.com/assets/colab-badge.svg\" alt=\"Open In Colab\"/></a>"
      ]
    },
    {
      "cell_type": "markdown",
      "metadata": {
        "id": "vXPQ3-mQTsC9",
        "colab_type": "text"
      },
      "source": [
        "###Convolutional Neural Network"
      ]
    },
    {
      "cell_type": "markdown",
      "metadata": {
        "id": "3_1mom_FT2xJ",
        "colab_type": "text"
      },
      "source": [
        "1. Import the modules"
      ]
    },
    {
      "cell_type": "code",
      "metadata": {
        "id": "hkLj9am1-lVT",
        "colab_type": "code",
        "colab": {}
      },
      "source": [
        "import keras\n",
        "from keras.datasets import mnist\n",
        "from keras.models import Sequential\n",
        "from keras.layers import Dense, Dropout, Flatten\n",
        "from keras.layers import Conv2D, MaxPooling2D\n",
        "import numpy as np\n"
      ],
      "execution_count": 0,
      "outputs": []
    },
    {
      "cell_type": "markdown",
      "metadata": {
        "id": "RXL65AysT6RW",
        "colab_type": "text"
      },
      "source": [
        "2. Data Input and Pre-processing of the data"
      ]
    },
    {
      "cell_type": "code",
      "metadata": {
        "id": "Jf1SqPv1_kEj",
        "colab_type": "code",
        "colab": {}
      },
      "source": [
        "batch_size = 30\n",
        "labels = 10\n",
        "epochs = 5\n",
        "\n",
        "row, cols = 28, 28\n",
        "\n",
        "(x_train, y_train), (x_test, y_test) = mnist.load_data()\n",
        "\n",
        "x_train = x_train.reshape(60000,28,28,1)\n",
        "x_test = x_test.reshape(10000,28,28,1)\n",
        "\n",
        "#one hot encoding\n",
        "y_train = keras.utils.to_categorical(y_train, labels)\n",
        "y_test = keras.utils.to_categorical(y_test, labels)"
      ],
      "execution_count": 0,
      "outputs": []
    },
    {
      "cell_type": "markdown",
      "metadata": {
        "id": "4BEwU8fbUHxR",
        "colab_type": "text"
      },
      "source": [
        "3. Design the model"
      ]
    },
    {
      "cell_type": "code",
      "metadata": {
        "id": "IqBHWMhIBioD",
        "colab_type": "code",
        "colab": {}
      },
      "source": [
        "model = Sequential()\n",
        "\n",
        "model.add(Conv2D(32, kernel_size=(3,3), activation='relu', input_shape=(28,28,1)))\n",
        "model.add(Conv2D(64, kernel_size=(3,3), activation='relu'))\n",
        "model.add(MaxPooling2D(pool_size=(2,2)))\n",
        "model.add(Dropout(0.25))\n",
        "model.add(Flatten())\n",
        "model.add(Dense(128, activation='relu'))\n",
        "model.add(Dense(labels, activation='softmax'))"
      ],
      "execution_count": 0,
      "outputs": []
    },
    {
      "cell_type": "markdown",
      "metadata": {
        "id": "qeeQOXrXULug",
        "colab_type": "text"
      },
      "source": [
        "4. Compile the model [training and testing]"
      ]
    },
    {
      "cell_type": "code",
      "metadata": {
        "id": "vGmwT59YC_d1",
        "colab_type": "code",
        "colab": {
          "base_uri": "https://localhost:8080/",
          "height": 487
        },
        "outputId": "7b25f85a-bb3b-47c5-bc36-5b9dab9f9338"
      },
      "source": [
        "model.compile(optimizer=keras.optimizers.Adadelta(), loss=keras.losses.categorical_crossentropy, metrics=['accuracy'] )\n",
        "\n",
        "model.fit(x_train, y_train,batch_size, epochs,verbose=1,validation_data=(x_test,y_test))\n",
        "\n",
        "score = model.evaluate(x_test,y_test,verbose=1)\n",
        "\n",
        "print('Test Loss :', score[0])\n",
        "print('Test accuracy :',score[1])"
      ],
      "execution_count": 11,
      "outputs": [
        {
          "output_type": "stream",
          "text": [
            "Train on 60000 samples, validate on 10000 samples\n",
            "Epoch 1/12\n",
            "60000/60000 [==============================] - 187s 3ms/step - loss: 0.0173 - acc: 0.9954 - val_loss: 0.0483 - val_acc: 0.9889\n",
            "Epoch 2/12\n",
            "60000/60000 [==============================] - 187s 3ms/step - loss: 0.0126 - acc: 0.9966 - val_loss: 0.0698 - val_acc: 0.9882\n",
            "Epoch 3/12\n",
            "60000/60000 [==============================] - 184s 3ms/step - loss: 0.0110 - acc: 0.9973 - val_loss: 0.0719 - val_acc: 0.9887\n",
            "Epoch 4/12\n",
            "60000/60000 [==============================] - 184s 3ms/step - loss: 0.0080 - acc: 0.9980 - val_loss: 0.0681 - val_acc: 0.9896\n",
            "Epoch 5/12\n",
            "60000/60000 [==============================] - 184s 3ms/step - loss: 0.0087 - acc: 0.9981 - val_loss: 0.0765 - val_acc: 0.9888\n",
            "Epoch 6/12\n",
            "60000/60000 [==============================] - 182s 3ms/step - loss: 0.0064 - acc: 0.9984 - val_loss: 0.0828 - val_acc: 0.9885\n",
            "Epoch 7/12\n",
            "60000/60000 [==============================] - 181s 3ms/step - loss: 0.0070 - acc: 0.9982 - val_loss: 0.0727 - val_acc: 0.9894\n",
            "Epoch 8/12\n",
            "60000/60000 [==============================] - 180s 3ms/step - loss: 0.0057 - acc: 0.9987 - val_loss: 0.0797 - val_acc: 0.9890\n",
            "Epoch 9/12\n",
            "60000/60000 [==============================] - 180s 3ms/step - loss: 0.0057 - acc: 0.9987 - val_loss: 0.0789 - val_acc: 0.9885\n",
            "Epoch 10/12\n",
            "60000/60000 [==============================] - 184s 3ms/step - loss: 0.0046 - acc: 0.9987 - val_loss: 0.0959 - val_acc: 0.9875\n",
            "Epoch 11/12\n",
            "60000/60000 [==============================] - 188s 3ms/step - loss: 0.0044 - acc: 0.9988 - val_loss: 0.0826 - val_acc: 0.9897\n",
            "Epoch 12/12\n",
            "60000/60000 [==============================] - 191s 3ms/step - loss: 0.0044 - acc: 0.9988 - val_loss: 0.0852 - val_acc: 0.9898\n",
            "10000/10000 [==============================] - 7s 677us/step\n",
            "Test Loss : 0.08517293632641817\n",
            "Test accuracy : 0.9898\n"
          ],
          "name": "stdout"
        }
      ]
    }
  ]
}