{
  "nbformat": 4,
  "nbformat_minor": 0,
  "metadata": {
    "colab": {
      "name": "Perceptron.ipynb",
      "provenance": [],
      "collapsed_sections": [],
      "authorship_tag": "ABX9TyMU1LBNrP/Hl7Fdqxk783jY",
      "include_colab_link": true
    },
    "kernelspec": {
      "name": "python3",
      "display_name": "Python 3"
    }
  },
  "cells": [
    {
      "cell_type": "markdown",
      "metadata": {
        "id": "view-in-github",
        "colab_type": "text"
      },
      "source": [
        "<a href=\"https://colab.research.google.com/github/pratyushvaidya/Machine-Learning-Lab-Assignments/blob/master/Perceptron%20OR.ipynb\" target=\"_parent\"><img src=\"https://colab.research.google.com/assets/colab-badge.svg\" alt=\"Open In Colab\"/></a>"
      ]
    },
    {
      "cell_type": "code",
      "metadata": {
        "id": "RtK4So-mc6hT",
        "colab_type": "code",
        "colab": {}
      },
      "source": [
        "import numpy as np\n",
        "\n",
        "class Perceptron:\n",
        "  def __init__(self, input_size, lr=1, epochs=100):\n",
        "    self.W = np.zeros(input_size+1)\n",
        "    self.lr = lr\n",
        "    self.epochs = epochs\n",
        "  def activation_fn(self, z):\n",
        "    if z>=0:\n",
        "      return 1\n",
        "    return 0\n",
        "  def predict(self, x):\n",
        "    z = self.W.T.dot(x)\n",
        "    a = self.activation_fn(z)\n",
        "    return a\n",
        "  def fit(self, X, d):\n",
        "    for _ in range(self.epochs):\n",
        "      for i in range(d.shape[0]):\n",
        "        x = np.insert(X[i],0,1)\n",
        "        y = self.predict(X)\n",
        "        e = d[i]-y\n",
        "        self.W = self.W + self.lr*e*x\n",
        "\n",
        "X = np.array([[0,0],[0,1],[1,0],[1,1]])\n",
        "d = np.array([0,1,1,1])\n",
        "neuron = Perceptron(input_size=2)\n",
        "neuron.fit(X,d)\n",
        "print(neuron.W)"
      ],
      "execution_count": 0,
      "outputs": []
    }
  ]
}