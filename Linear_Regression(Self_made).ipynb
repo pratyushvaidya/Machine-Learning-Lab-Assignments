{
  "nbformat": 4,
  "nbformat_minor": 0,
  "metadata": {
    "colab": {
      "name": "Linear Regression(Self-made).ipynb",
      "provenance": [],
      "collapsed_sections": [],
      "authorship_tag": "ABX9TyNJAg6MLUV+BqtP089cl34k",
      "include_colab_link": true
    },
    "kernelspec": {
      "name": "python3",
      "display_name": "Python 3"
    }
  },
  "cells": [
    {
      "cell_type": "markdown",
      "metadata": {
        "id": "view-in-github",
        "colab_type": "text"
      },
      "source": [
        "<a href=\"https://colab.research.google.com/github/pratyushvaidya/Machine-Learning-Lab-Assignments/blob/master/Linear_Regression(Self_made).ipynb\" target=\"_parent\"><img src=\"https://colab.research.google.com/assets/colab-badge.svg\" alt=\"Open In Colab\"/></a>"
      ]
    },
    {
      "cell_type": "markdown",
      "metadata": {
        "id": "lYGKIUoiRgaJ",
        "colab_type": "text"
      },
      "source": [
        "###UNIVARIATE LINEAR REGRESSION "
      ]
    },
    {
      "cell_type": "markdown",
      "metadata": {
        "id": "P7BXF1o4Rm0n",
        "colab_type": "text"
      },
      "source": [
        "1. DEFINE CLASS MYLINEARREGRESSION"
      ]
    },
    {
      "cell_type": "code",
      "metadata": {
        "id": "a54UIPqJRdcS",
        "colab_type": "code",
        "colab": {}
      },
      "source": [
        "class MyLinearRegression:\n",
        "  def __init__(self, weight=0.0, bias=0.0, iter=100, lr=0.001):\n",
        "    self.weight = weight\n",
        "    self.bias = bias\n",
        "    self.iter = iter\n",
        "    self.lr = lr\n",
        "    self.cost = 0\n",
        "    self.cost_trend = []\n",
        "  \n",
        "  def predict(self,X):\n",
        "    y_p = []\n",
        "    for i in range(len(X)):\n",
        "      y_p.append(self.bias + self.weight*X[i])\n",
        "    return y_p\n",
        "\n",
        "  def update(self, X, Y):\n",
        "    wd = 0\n",
        "    bd = 0\n",
        "    for i in range(len(X)):\n",
        "      bd += -2*(Y[i]-self.bias-self.weight*X[i])\n",
        "      wd += -2*(Y[i]-self.bias-self.weight*X[i])*X[i]\n",
        "    \n",
        "    self.weight -= (wd/len(X))*self.lr\n",
        "    self.bias -= (bd/len(X))*self.lr\n",
        "  \n",
        "  def cf(self, X, Y):\n",
        "    cost = 0\n",
        "    for i in range(len(X)):\n",
        "      cost += (self.bias + self.weight*X[i] - Y[i])**2\n",
        "    return cost/len(X)\n",
        "  \n",
        "  def train(self, X, Y):\n",
        "    for i in range(self.iter):\n",
        "      self.update(X,Y)\n",
        "      self.cost = self.cf(X,Y)\n",
        "      self.cost_trend.append(self.cost)\n",
        "      print(\"Iteration: {}\\t Weight: {}\\t Bias: {}\\t Cost: {}\".\n",
        "            format(i, self.weight, self.bias, self.cost))\n"
      ],
      "execution_count": 0,
      "outputs": []
    },
    {
      "cell_type": "markdown",
      "metadata": {
        "id": "V65TvgEWRfPh",
        "colab_type": "text"
      },
      "source": [
        "2. Define dataset and plotting"
      ]
    },
    {
      "cell_type": "code",
      "metadata": {
        "id": "NqTnwJ4TaZlB",
        "colab_type": "code",
        "colab": {}
      },
      "source": [
        "X = [2.5,5.1,3.2,8.5,3.5,1.5,9.2,5.5,8.3,2.7,7.7,5.9,4.5,3.3,1.1,8.9,2.5,1.9,6.1,7.4,2.7,4.8,3.8,6.9,7.8]\n",
        "Y = [21,47,27,75,30,20,88,60,81,25,85,62,41,42,17,95,30,24,67,69,30,54,35,76,86]"
      ],
      "execution_count": 0,
      "outputs": []
    },
    {
      "cell_type": "code",
      "metadata": {
        "id": "x3AYIuC1bce7",
        "colab_type": "code",
        "outputId": "d244e5a2-cefe-4c25-81b4-0b9f59957055",
        "colab": {
          "base_uri": "https://localhost:8080/",
          "height": 265
        }
      },
      "source": [
        "import matplotlib.pyplot as plt\n",
        "plt.scatter(X,Y,color=\"blue\")\n",
        "plt.show()"
      ],
      "execution_count": 8,
      "outputs": [
        {
          "output_type": "display_data",
          "data": {
            "image/png": "[encoded data removed]",
            "text/plain": [
              "<Figure size 432x288 with 1 Axes>"
            ]
          },
          "metadata": {
            "tags": []
          }
        }
      ]
    },
    {
      "cell_type": "code",
      "metadata": {
        "id": "NY_FRwMGcemV",
        "colab_type": "code",
        "outputId": "2bc5922b-509f-4f25-da84-fab8bf943f18",
        "colab": {
          "base_uri": "https://localhost:8080/",
          "height": 1000
        }
      },
      "source": [
        "regressor = MyLinearRegression()\n",
        "regressor.train(X,Y)"
      ],
      "execution_count": 9,
      "outputs": [
        {
          "output_type": "stream",
          "text": [
            "Iteration: 0\t Weight: 0.635712\t Bias: 0.10296\t Cost: 2862.6016904128073\n",
            "Iteration: 1\t Weight: 1.2306711174912002\t Bias: 0.19934170291200004\t Cost: 2510.9786496605984\n",
            "Iteration: 2\t Weight: 1.7874896312296782\t Bias: 0.28956677222444427\t Cost: 2202.989201351535\n",
            "Iteration: 3\t Weight: 2.308612371770555\t Bias: 0.37402984261654904\t Cost: 1933.2187656883502\n",
            "Iteration: 4\t Weight: 2.79632745497025\t Bias: 0.4531002525166879\t Cost: 1696.9246689167671\n",
            "Iteration: 5\t Weight: 3.2527763274665897\t Bias: 0.5271236656030327\t Cost: 1489.952765159975\n",
            "Iteration: 6\t Weight: 3.6799631682392864\t Bias: 0.5964235883653015\t Cost: 1308.664404816513\n",
            "Iteration: 7\t Weight: 4.079763687526318\t Bias: 0.6613027903901403\t Cost: 1149.8724655958279\n",
            "Iteration: 8\t Weight: 4.453933361725953\t Bias: 0.7220446336055962\t Cost: 1010.7853215906381\n",
            "Iteration: 9\t Weight: 4.804115140437985\t Bias: 0.7789143163204441\t Cost: 888.9577653392461\n",
            "Iteration: 10\t Weight: 5.131846659480287\t Bias: 0.8321600375200529\t Cost: 782.248020067353\n",
            "Iteration: 11\t Weight: 5.438566991547875\t Bias: 0.8820140865303824\t Cost: 688.7800863668172\n",
            "Iteration: 12\t Weight: 5.725622964151803\t Bias: 0.9286938628340458\t Cost: 606.9107613504002\n",
            "Iteration: 13\t Weight: 5.994275072575436\t Bias: 0.97240283051572\t Cost: 535.200750465601\n",
            "Iteration: 14\t Weight: 6.24570301380766\t Bias: 1.0133314115271923\t Cost: 472.3893641013269\n",
            "Iteration: 15\t Weight: 6.481010865748575\t Bias: 1.05165782169373\t Cost: 417.3723541432795\n",
            "Iteration: 16\t Weight: 6.701231934425869\t Bias: 1.087548853132079\t Cost: 369.18250083553846\n",
            "Iteration: 17\t Weight: 6.907333290502502\t Bias: 1.1211606065151298\t Cost: 326.97260865734063\n",
            "Iteration: 18\t Weight: 7.100220014992301\t Bias: 1.1526391763981025\t Cost: 290.00061227554204\n",
            "Iteration: 19\t Weight: 7.280739172823331\t Bias: 1.1821212926150235\t Cost: 257.6165307292416\n",
            "Iteration: 20\t Weight: 7.449683531694141\t Bias: 1.2097349205614123\t Cost: 229.25104049574693\n",
            "Iteration: 21\t Weight: 7.607795042549708\t Bias: 1.2355998229985874\t Cost: 204.4054665476499\n",
            "Iteration: 22\t Weight: 7.755768096957362\t Bias: 1.259828085846072\t Cost: 182.6430154396617\n",
            "Iteration: 23\t Weight: 7.894252575683512\t Bias: 1.2825246102704793\t Cost: 163.5810962992461\n",
            "Iteration: 24\t Weight: 8.023856701855273\t Bias: 1.3037875732312867\t Cost: 146.88459472089428\n",
            "Iteration: 25\t Weight: 8.1451497112332\t Bias: 1.3237088585054269\t Cost: 132.259981316318\n",
            "Iteration: 26\t Weight: 8.258664351318384\t Bias: 1.3423744600830143\t Cost: 119.45015134644109\n",
            "Iteration: 27\t Weight: 8.364899220265697\t Bias: 1.3598648597052327\t Cost: 108.22990471378293\n",
            "Iteration: 28\t Weight: 8.464320955871681\t Bias: 1.3762553802018789\t Cost: 98.40198685163472\n",
            "Iteration: 29\t Weight: 8.557366284247381\t Bias: 1.3916165161798173\t Cost: 89.79362090721855\n",
            "Iteration: 30\t Weight: 8.644443937170337\t Bias: 1.4060142435141618\t Cost: 82.25347025318058\n",
            "Iteration: 31\t Weight: 8.725936446533499\t Bias: 1.419510309000938\t Cost: 75.64897792711015\n",
            "Iteration: 32\t Weight: 8.802201823769188\t Bias: 1.4321625014428843\t Cost: 69.86403622533449\n",
            "Iteration: 33\t Weight: 8.873575131621248\t Bias: 1.4440249053585361\t Cost: 64.79694548148237\n",
            "Iteration: 34\t Weight: 8.940369955165922\t Bias: 1.4551481384284477\t Cost: 60.358626144301425\n",
            "Iteration: 35\t Weight: 9.002879778539656\t Bias: 1.4655795737210076\t Cost: 56.47105272231706\n",
            "Iteration: 36\t Weight: 9.06137927341805\t Bias: 1.475363547673484\t Cost: 53.06588206343258\n",
            "Iteration: 37\t Weight: 9.116125504902755\t Bias: 1.4845415547413947\t Cost: 50.0832518540588\n",
            "Iteration: 38\t Weight: 9.16735906011049\t Bias: 1.4931524295707668\t Cost: 47.47072821489157\n",
            "Iteration: 39\t Weight: 9.215305104419025\t Bias: 1.5012325174930776\t Cost: 45.18238389163489\n",
            "Iteration: 40\t Weight: 9.260174370007324\t Bias: 1.508815834091395\t Cost: 43.177990834882465\n",
            "Iteration: 41\t Weight: 9.302164081029845\t Bias: 1.5159342145382588\t Cost: 41.42231297437729\n",
            "Iteration: 42\t Weight: 9.341458819486775\t Bias: 1.5226174533609391\t Cost: 39.88448675432878\n",
            "Iteration: 43\t Weight: 9.378231335591584\t Bias: 1.5288934352476817\t Cost: 38.537478539342054\n",
            "Iteration: 44\t Weight: 9.412643306193694\t Bias: 1.5347882574692164\t Cost: 37.35760935193161\n",
            "Iteration: 45\t Weight: 9.444846044585905\t Bias: 1.5403263444529924\t Cost: 36.32413858630757\n",
            "Iteration: 46\t Weight: 9.474981164812874\t Bias: 1.5455305550131573\t Cost: 35.41889937995168\n",
            "Iteration: 47\t Weight: 9.503181203397117\t Bias: 1.5504222827070466\t Cost: 34.625979232664065\n",
            "Iteration: 48\t Weight: 9.529570201212122\t Bias: 1.5550215497587798\t Cost: 33.93144025823145\n",
            "Iteration: 49\t Weight: 9.554264248057123\t Bias: 1.559347094962312\t Cost: 33.32307415062601\n",
            "Iteration: 50\t Weight: 9.577371992324416\t Bias: 1.563416455949863\t Cost: 32.79018755693867\n",
            "Iteration: 51\t Weight: 9.598995117996763\t Bias: 1.5672460461869033\t Cost: 32.323414083814946\n",
            "Iteration: 52\t Weight: 9.619228791069064\t Bias: 1.57085122703173\t Cost: 31.914549632388212\n",
            "Iteration: 53\t Weight: 9.638162077354204\t Bias: 1.5742463751759903\t Cost: 31.556408166830487\n",
            "Iteration: 54\t Weight: 9.655878333507363\t Bias: 1.5774449457622397\t Cost: 31.242695380872906\n",
            "Iteration: 55\t Weight: 9.672455572985502\t Bias: 1.5804595314556373\t Cost: 30.967898041299826\n",
            "Iteration: 56\t Weight: 9.687966808548682\t Bias: 1.5833019177291194\t Cost: 30.72718706303067\n",
            "Iteration: 57\t Weight: 9.702480372806903\t Bias: 1.5859831346047693\t Cost: 30.51633261180872\n",
            "Iteration: 58\t Weight: 9.716060218219754\t Bias: 1.5885135050785433\t Cost: 30.33162974196718\n",
            "Iteration: 59\t Weight: 9.728766197865953\t Bias: 1.5909026904409513\t Cost: 30.16983326195339\n",
            "Iteration: 60\t Weight: 9.740654328215433\t Bias: 1.5931597326926612\t Cost: 30.02810068252107\n",
            "Iteration: 61\t Weight: 9.751777035057634\t Bias: 1.5952930942412444\t Cost: 29.903942244594845\n",
            "Iteration: 62\t Weight: 9.762183383665674\t Bias: 1.5973106950533442\t Cost: 29.795177148277794\n",
            "Iteration: 63\t Weight: 9.771919294206906\t Bias: 1.5992199474253728\t Cost: 29.6998952134884\n",
            "Iteration: 64\t Weight: 9.781027743345561\t Bias: 1.601027788525392\t Cost: 29.616423298206314\n",
            "Iteration: 65\t Weight: 9.789548952922567\t Bias: 1.6027407108490455\t Cost: 29.543295883944783\n",
            "Iteration: 66\t Weight: 9.797520566540928\t Bias: 1.6043647907232514\t Cost: 29.479229311331043\n",
            "Iteration: 67\t Weight: 9.804977814831881\t Bias: 1.6059057149827987\t Cost: 29.423099212844782\n",
            "Iteration: 68\t Weight: 9.811953670127442\t Bias: 1.6073688059369582\t Cost: 29.373920745973454\n",
            "Iteration: 69\t Weight: 9.81847899121836\t Bias: 1.6087590447357267\t Cost: 29.330831279274847\n",
            "Iteration: 70\t Weight: 9.824582658833027\t Bias: 1.6100810932382825\t Cost: 29.29307522696079\n",
            "Iteration: 71\t Weight: 9.830291702432138\t Bias: 1.6113393144796637\t Cost: 29.259990765387712\n",
            "Iteration: 72\t Weight: 9.835631418875748\t Bias: 1.6125377918255246\t Cost: 29.230998197924507\n",
            "Iteration: 73\t Weight: 9.840625483483727\t Bias: 1.613680346899063\t Cost: 29.20558976364719\n",
            "Iteration: 74\t Weight: 9.845296053977187\t Bias: 1.614770556358824\t Cost: 29.183320710692996\n",
            "Iteration: 75\t Weight: 9.849663867757222\t Bias: 1.615811767601039\t Cost: 29.163801477339987\n",
            "Iteration: 76\t Weight: 9.853748332948035\t Bias: 1.6168071134554385\t Cost: 29.146690843352015\n",
            "Iteration: 77\t Weight: 9.857567613604166\t Bias: 1.6177595259390565\t Cost: 29.131689931186855\n",
            "Iteration: 78\t Weight: 9.861138709455892\t Bias: 1.6186717491284102\t Cost: 29.11853695160679\n",
            "Iteration: 79\t Weight: 9.864477530542922\t Bias: 1.6195463512065675\t Cost: 29.107002601316594\n",
            "Iteration: 80\t Weight: 9.867598967064033\t Bias: 1.620385735737992\t Cost: 29.096886031717926\n",
            "Iteration: 81\t Weight: 9.870516954749315\t Bias: 1.6211921522206663\t Cost: 29.088011317909032\n",
            "Iteration: 82\t Weight: 9.873244536042026\t Bias: 1.6219677059618178\t Cost: 29.080224365853436\n",
            "Iteration: 83\t Weight: 9.875793917358672\t Bias: 1.6227143673206088\t Cost: 29.073390203344076\n",
            "Iteration: 84\t Weight: 9.878176522678679\t Bias: 1.6234339803583642\t Cost: 29.06739060713734\n",
            "Iteration: 85\t Weight: 9.880403043698948\t Bias: 1.6241282709343163\t Cost: 29.062122024540596\n",
            "Iteration: 86\t Weight: 9.882483486773488\t Bias: 1.6247988542824094\t Cost: 29.05749375291426\n",
            "Iteration: 87\t Weight: 9.884427216844186\t Bias: 1.625447242102427\t Cost: 29.053426345082855\n",
            "Iteration: 88\t Weight: 9.886242998555606\t Bias: 1.6260748491965762\t Cost: 29.049850212622104\n",
            "Iteration: 89\t Weight: 9.887939034734309\t Bias: 1.6266829996806615\t Cost: 29.046704402466712\n",
            "Iteration: 90\t Weight: 9.889523002401628\t Bias: 1.6272729327971236\t Cost: 29.043935525331364\n",
            "Iteration: 91\t Weight: 9.89100208647801\t Bias: 1.6278458083554554\t Cost: 29.041496817106143\n",
            "Iteration: 92\t Weight: 9.892383011326903\t Bias: 1.6284027118238888\t Cost: 29.039347316725326\n",
            "Iteration: 93\t Weight: 9.893672070276647\t Bias: 1.6289446590947\t Cost: 29.03745114605592\n",
            "Iteration: 94\t Weight: 9.894875153250029\t Bias: 1.6294726009440577\t Cost: 29.035776879146482\n",
            "Iteration: 95\t Weight: 9.895997772622735\t Bias: 1.6299874272059913\t Cost: 29.03429698974696\n",
            "Iteration: 96\t Weight: 9.8970450874243\t Bias: 1.630489970678809\t Cost: 29.032987367386863\n",
            "Iteration: 97\t Weight: 9.898021925987734\t Bias: 1.6309810107811102\t Cost: 29.031826893504515\n",
            "Iteration: 98\t Weight: 9.898932807147329\t Bias: 1.631461276973447\t Cost: 29.030797070174977\n",
            "Iteration: 99\t Weight: 9.899781960077645\t Bias: 1.6319314519606551\t Cost: 29.029881694910035\n"
          ],
          "name": "stdout"
        }
      ]
    },
    {
      "cell_type": "code",
      "metadata": {
        "id": "hrfZ2AcFf8Go",
        "colab_type": "code",
        "outputId": "19c5ca30-fe60-4710-f852-c06cd409d3aa",
        "colab": {
          "base_uri": "https://localhost:8080/",
          "height": 286
        }
      },
      "source": [
        "plt.plot(regressor.cost_trend,color=\"blue\")"
      ],
      "execution_count": 10,
      "outputs": [
        {
          "output_type": "execute_result",
          "data": {
            "text/plain": [
              "[<matplotlib.lines.Line2D at 0x7fd6f55c6eb8>]"
            ]
          },
          "metadata": {
            "tags": []
          },
          "execution_count": 10
        },
        {
          "output_type": "display_data",
          "data": {
            "image/png": "[encoded data removed]",
            "text/plain": [
              "<Figure size 432x288 with 1 Axes>"
            ]
          },
          "metadata": {
            "tags": []
          }
        }
      ]
    },
    {
      "cell_type": "code",
      "metadata": {
        "id": "WDJ_5DYh5JfF",
        "colab_type": "code",
        "outputId": "cf1edc0e-9710-4a03-a94d-bd28cf930cb7",
        "colab": {
          "base_uri": "https://localhost:8080/",
          "height": 268
        }
      },
      "source": [
        "plt.plot(X, regressor.predict(X),color=\"blue\")\n",
        "plt.scatter(X, Y, color=\"green\")\n",
        "plt.show()"
      ],
      "execution_count": 11,
      "outputs": [
        {
          "output_type": "display_data",
          "data": {
            "image/png": "[encoded data removed]",
            "text/plain": [
              "<Figure size 432x288 with 1 Axes>"
            ]
          },
          "metadata": {
            "tags": []
          }
        }
      ]
    }
  ]
}